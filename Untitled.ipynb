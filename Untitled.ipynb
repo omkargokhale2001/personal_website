{
 "cells": [
  {
   "cell_type": "code",
   "execution_count": 1,
   "id": "ed475fe4-9b0b-45b8-9b65-00135eed6f6a",
   "metadata": {},
   "outputs": [
    {
     "name": "stdout",
     "output_type": "stream",
     "text": [
      "hello\n"
     ]
    }
   ],
   "source": [
    "print(\"hello\")"
   ]
  },
  {
   "cell_type": "code",
   "execution_count": 10,
   "id": "33af9c2e-cd13-4042-a614-e60e36a68662",
   "metadata": {},
   "outputs": [],
   "source": [
    "def update_requirements(file_path):\n",
    "    # Read the existing requirements.txt file\n",
    "    with open(file_path, 'r') as file:\n",
    "        lines = file.readlines()\n",
    "\n",
    "    # Update version specifiers to >=*\n",
    "    updated_lines = [line.split('==')[0] for line in lines]\n",
    "\n",
    "    # Write the updated content back to requirements.txt\n",
    "    with open(file_path, 'w') as file:\n",
    "        file.write('\\n'.join(updated_lines))\n"
   ]
  },
  {
   "cell_type": "code",
   "execution_count": 11,
   "id": "f310f390-164e-48a6-9a09-d747fb05c575",
   "metadata": {},
   "outputs": [],
   "source": [
    "\n",
    "requirements_file_path = 'requirements.txt'\n",
    "update_requirements(requirements_file_path)"
   ]
  },
  {
   "cell_type": "code",
   "execution_count": null,
   "id": "72c503a4-baf7-4ca3-98ad-860a973ef4fc",
   "metadata": {},
   "outputs": [],
   "source": []
  }
 ],
 "metadata": {
  "kernelspec": {
   "display_name": "Python 3 (ipykernel)",
   "language": "python",
   "name": "python3"
  },
  "language_info": {
   "codemirror_mode": {
    "name": "ipython",
    "version": 3
   },
   "file_extension": ".py",
   "mimetype": "text/x-python",
   "name": "python",
   "nbconvert_exporter": "python",
   "pygments_lexer": "ipython3",
   "version": "3.11.5"
  }
 },
 "nbformat": 4,
 "nbformat_minor": 5
}
